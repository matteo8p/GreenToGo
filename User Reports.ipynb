{
 "cells": [
  {
   "cell_type": "code",
   "execution_count": null,
   "metadata": {},
   "outputs": [],
   "source": [
    "data"
   ]
  },
  {
   "cell_type": "code",
   "execution_count": 3,
   "metadata": {},
   "outputs": [
    {
     "name": "stdout",
     "output_type": "stream",
     "text": [
      "Total number of users as of February 2nd, 2020: 1758\n"
     ]
    }
   ],
   "source": [
    "print(\"Total number of users as of February 2nd, 2020: {}\".format(len(data)))"
   ]
  },
  {
   "cell_type": "code",
   "execution_count": 1,
   "metadata": {},
   "outputs": [],
   "source": [
    "import pandas as pd\n",
    "data = pd.read_csv(\"user_reports_mar2.csv\")\n",
    "data = data.fillna('')"
   ]
  },
  {
   "cell_type": "code",
   "execution_count": 2,
   "metadata": {},
   "outputs": [
    {
     "name": "stdout",
     "output_type": "stream",
     "text": [
      "Total active subscriptions: Redacted\n"
     ]
    }
   ],
   "source": [
    "#Total number of active Subscriptions\n",
    "\n",
    "subscription_count = 0\n",
    "for subscription in data[\"Subscription Level\"]:\n",
    "   \n",
    "    if(subscription != ''):\n",
    "        subscription_count = subscription_count + 1\n",
    "        \n",
    "print(\"Total active subscriptions: {}\".format(\"Redacted\"))\n"
   ]
  },
  {
   "cell_type": "code",
   "execution_count": 3,
   "metadata": {},
   "outputs": [
    {
     "name": "stdout",
     "output_type": "stream",
     "text": [
      "Redacted\n"
     ]
    }
   ],
   "source": [
    "#Distribution of subscription types. \n",
    "\n",
    "subscription_distribution = {'': 0}\n",
    "for subscription in data[\"Subscription Level\"]:\n",
    "    subType = subscription.split(',')\n",
    "    subType = subType[0]\n",
    "    \n",
    "    if subType not in subscription_distribution.keys():\n",
    "        subscription_distribution[subType] = 1\n",
    "    else:\n",
    "        subscription_distribution[subType] = subscription_distribution[subType] + 1\n",
    "        \n",
    "print(\"Redacted\")\n",
    "\n",
    "    "
   ]
  },
  {
   "cell_type": "code",
   "execution_count": 5,
   "metadata": {},
   "outputs": [
    {
     "name": "stdout",
     "output_type": "stream",
     "text": [
      "month_distribution Redacted\n",
      "Total number of people joined in Redacted: Redacted\n"
     ]
    }
   ],
   "source": [
    "#At what months did people join in 2019? \n",
    "year = \"2020\"\n",
    "joined = []\n",
    "for date in data[\"Date Joined\"]:\n",
    "    if(date[0:4] == year):\n",
    "        joined.append(date)\n",
    "\n",
    "month_distribution = {}\n",
    "for date in joined: \n",
    "    month = date[5:7]\n",
    "    \n",
    "    if month not in month_distribution.keys():\n",
    "        month_distribution[month] = 1\n",
    "    else:\n",
    "        month_distribution[month] = month_distribution[month] + 1\n",
    "    \n",
    "print(\"month_distribution Redacted\")        \n",
    "        \n",
    "print(\"Total number of people joined in {}: {}\".format(\"Redacted\", \"Redacted\"))\n"
   ]
  },
  {
   "cell_type": "code",
   "execution_count": null,
   "metadata": {},
   "outputs": [],
   "source": []
  },
  {
   "cell_type": "code",
   "execution_count": 8,
   "metadata": {},
   "outputs": [
    {
     "name": "stdout",
     "output_type": "stream",
     "text": [
      "quit_same_month redacted\n"
     ]
    }
   ],
   "source": [
    "#User Retention after the first month\n",
    "\n",
    "quit_same_month = 0\n",
    "for index in range(0, 1758):\n",
    "    date_joined = data[\"Date Joined\"][index]\n",
    "    last_login = data[\"Last Login\"][index]\n",
    "    \n",
    "    date_joined = date_joined[0:7]\n",
    "    last_login = last_login[0:7]\n",
    "    \n",
    "    if (date_joined == last_login):\n",
    "        quit_same_month = quit_same_month + 1\n",
    "        \n",
    "print(\"quit_same_month redacted\")"
   ]
  },
  {
   "cell_type": "code",
   "execution_count": 11,
   "metadata": {},
   "outputs": [
    {
     "name": "stdout",
     "output_type": "stream",
     "text": [
      "quit_same_month Redacted\n"
     ]
    }
   ],
   "source": [
    "#User Retention after the first day\n",
    "\n",
    "quit_same_month = 0\n",
    "for index in range(0, 1758):\n",
    "    date_joined = data[\"Date Joined\"][index]\n",
    "    last_login = data[\"Last Login\"][index]\n",
    "    \n",
    "    date_joined = date_joined[0:10]\n",
    "    last_login = last_login[0:10]\n",
    "\n",
    "    if (date_joined == last_login):\n",
    "        quit_same_month = quit_same_month + 1\n",
    "        \n",
    "print(\"quit_same_month Redacted\")"
   ]
  },
  {
   "cell_type": "code",
   "execution_count": null,
   "metadata": {},
   "outputs": [],
   "source": []
  }
 ],
 "metadata": {
  "kernelspec": {
   "display_name": "Python 3",
   "language": "python",
   "name": "python3"
  },
  "language_info": {
   "codemirror_mode": {
    "name": "ipython",
    "version": 3
   },
   "file_extension": ".py",
   "mimetype": "text/x-python",
   "name": "python",
   "nbconvert_exporter": "python",
   "pygments_lexer": "ipython3",
   "version": "3.7.4"
  }
 },
 "nbformat": 4,
 "nbformat_minor": 2
}
