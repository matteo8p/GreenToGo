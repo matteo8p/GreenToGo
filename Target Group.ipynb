{
 "cells": [
  {
   "cell_type": "code",
   "execution_count": 3,
   "metadata": {},
   "outputs": [],
   "source": [
    "import pandas as pd\n",
    "check_outs = pd.read_csv(\"check_outs.csv\")\n",
    "user_out = pd.read_csv(\"check_outs_by_user.csv\")\n",
    "dictionary = {\"\":1}"
   ]
  },
  {
   "cell_type": "code",
   "execution_count": null,
   "metadata": {},
   "outputs": [],
   "source": []
  },
  {
   "cell_type": "code",
   "execution_count": 4,
   "metadata": {},
   "outputs": [
    {
     "name": "stdout",
     "output_type": "stream",
     "text": [
      "dictionary\n"
     ]
    }
   ],
   "source": [
    "def findCheck(user):\n",
    "    for index in range(0, len(check_outs)):\n",
    "        if(check_outs['Username'][index] == user):\n",
    "            location = check_outs['Location'][index]\n",
    "            print\n",
    "            if location in dictionary:\n",
    "                dictionary[location] = dictionary[location] + 1\n",
    "            else:\n",
    "                dictionary[location] = 1\n",
    "\n",
    "\n",
    "for index in range(0, len(user_out)):\n",
    "    if(user_out[\"Total Checked Out\"][index] >= 10):\n",
    "        findCheck(user_out[\"Username\"][index])\n",
    "        \n",
    "print(\"dictionary redacted\")"
   ]
  },
  {
   "cell_type": "code",
   "execution_count": null,
   "metadata": {},
   "outputs": [],
   "source": []
  },
  {
   "cell_type": "code",
   "execution_count": null,
   "metadata": {},
   "outputs": [],
   "source": []
  }
 ],
 "metadata": {
  "kernelspec": {
   "display_name": "Python 3",
   "language": "python",
   "name": "python3"
  },
  "language_info": {
   "codemirror_mode": {
    "name": "ipython",
    "version": 3
   },
   "file_extension": ".py",
   "mimetype": "text/x-python",
   "name": "python",
   "nbconvert_exporter": "python",
   "pygments_lexer": "ipython3",
   "version": "3.7.4"
  }
 },
 "nbformat": 4,
 "nbformat_minor": 2
}
